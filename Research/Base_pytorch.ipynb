{
 "cells": [
  {
   "cell_type": "code",
   "execution_count": 1,
   "id": "ef26823c-0d09-4936-90da-56186172ec4d",
   "metadata": {},
   "outputs": [],
   "source": [
    "import torch"
   ]
  },
  {
   "cell_type": "code",
   "execution_count": 2,
   "id": "29eeafc2-6ea2-42ac-9d0d-df971b42c3e3",
   "metadata": {},
   "outputs": [],
   "source": [
    "def describe(x):\n",
    "    print(\"Type: {}\".format(x.type()))\n",
    "    print(\"Shape/size: {}\".format(x.shape))\n",
    "    print(\"Values: \\n{}\".format(x))"
   ]
  },
  {
   "cell_type": "markdown",
   "id": "11224609-c9cf-4cac-ad2e-d034f8d6f34a",
   "metadata": {},
   "source": [
    "8. Верните.пакетное.произведение.трехмерной.и.двумерной.матриц.(a=torch.rand(3,4,5),.b=torch.rand(5,4)).\n"
   ]
  },
  {
   "cell_type": "markdown",
   "id": "6946dac4-4763-495f-af60-748d7a8e4e7b",
   "metadata": {},
   "source": [
    "1. Создайте.двумерный.тензор,.после.чего.добавьте.в.него.новое.измерение.размером.1.перед.измерением.0."
   ]
  },
  {
   "cell_type": "code",
   "execution_count": 86,
   "id": "1cdb6c15-03c9-4fff-907c-8c7cf071da2f",
   "metadata": {},
   "outputs": [
    {
     "data": {
      "text/plain": [
       "torch.Size([2, 2])"
      ]
     },
     "execution_count": 86,
     "metadata": {},
     "output_type": "execute_result"
    }
   ],
   "source": [
    "x = torch.rand(2, 2)\n",
    "x.shape"
   ]
  },
  {
   "cell_type": "code",
   "execution_count": 87,
   "id": "16025921-f516-4494-ba8a-81c04a562826",
   "metadata": {},
   "outputs": [
    {
     "data": {
      "text/plain": [
       "torch.Size([1, 2, 2])"
      ]
     },
     "execution_count": 87,
     "metadata": {},
     "output_type": "execute_result"
    }
   ],
   "source": [
    "x = x.unsqueeze(0)\n",
    "x.shape"
   ]
  },
  {
   "cell_type": "markdown",
   "id": "58e61778-5e8b-4249-89d0-4e0ca91e3fc1",
   "metadata": {},
   "source": [
    "2. Удалите.дополнительное.измерение,.которое.вы.только.что.добавили.в.предыдущий.тензор."
   ]
  },
  {
   "cell_type": "code",
   "execution_count": 88,
   "id": "23198131-83b1-4a41-87e1-dce99f0629b5",
   "metadata": {},
   "outputs": [
    {
     "data": {
      "text/plain": [
       "torch.Size([2, 2])"
      ]
     },
     "execution_count": 88,
     "metadata": {},
     "output_type": "execute_result"
    }
   ],
   "source": [
    "x = x.squeeze(0)\n",
    "x.shape"
   ]
  },
  {
   "cell_type": "markdown",
   "id": "198c1a38-c0df-4850-bcd0-de21ae84b147",
   "metadata": {},
   "source": [
    "3. Создайте.случайный.тензор.формой.5.×.3.в.интервале.[3,.7)."
   ]
  },
  {
   "cell_type": "code",
   "execution_count": 104,
   "id": "4e737b34-dbac-481b-9f5d-48ec807f3620",
   "metadata": {},
   "outputs": [
    {
     "data": {
      "text/plain": [
       "tensor([[3.9844, 4.2826, 6.4463],\n",
       "        [5.5664, 4.4016, 6.1330],\n",
       "        [6.8469, 4.8899, 6.1375],\n",
       "        [5.8175, 6.0924, 3.8606],\n",
       "        [6.5317, 4.1920, 5.9994]])"
      ]
     },
     "execution_count": 104,
     "metadata": {},
     "output_type": "execute_result"
    }
   ],
   "source": [
    "x = torch.rand((5,3)) * (7 - 3) + 3\n",
    "x"
   ]
  },
  {
   "cell_type": "markdown",
   "id": "18a3e48e-986c-40fe-b738-e3c96808482f",
   "metadata": {},
   "source": [
    "4. Создайте.тензор.со.значениями,.взятыми.из.нормального.распределения (математическое.ожидание.=.0,.стандартное.отклонение.=.1)."
   ]
  },
  {
   "cell_type": "code",
   "execution_count": 114,
   "id": "d04640cc-f3c7-4f5f-9ce6-95319e262675",
   "metadata": {},
   "outputs": [
    {
     "data": {
      "text/plain": [
       "tensor([[-1.3839, -2.1957, -1.3856],\n",
       "        [ 0.8153,  1.3229, -0.6353],\n",
       "        [ 0.0093, -0.3579,  0.2353]])"
      ]
     },
     "execution_count": 114,
     "metadata": {},
     "output_type": "execute_result"
    }
   ],
   "source": [
    "torch.Tensor(3, 3).normal_(0, 1)"
   ]
  },
  {
   "cell_type": "markdown",
   "id": "e12e85bc-5e28-4640-96e4-0bd26eed217a",
   "metadata": {},
   "source": [
    "5. Извлеките.индексы.всех.ненулевых.элементов.из.тензора.torch.Tensor([1,.1,.\n",
    "1,.0,.1])."
   ]
  },
  {
   "cell_type": "code",
   "execution_count": 119,
   "id": "5b44ab40-226e-4a63-934e-1b5c814ddb1e",
   "metadata": {},
   "outputs": [],
   "source": [
    "x = torch.Tensor([1, 1, 1, 0, 1])"
   ]
  },
  {
   "cell_type": "code",
   "execution_count": 123,
   "id": "998a9257-c565-45d3-8db1-3b0fecbd3428",
   "metadata": {},
   "outputs": [],
   "source": [
    "nx = (x != 0).numpy()"
   ]
  },
  {
   "cell_type": "code",
   "execution_count": 135,
   "id": "c4a80ae2-d0da-4753-8a26-6ed383fc1131",
   "metadata": {},
   "outputs": [
    {
     "data": {
      "text/plain": [
       "array([0, 1, 2, 4])"
      ]
     },
     "execution_count": 135,
     "metadata": {},
     "output_type": "execute_result"
    }
   ],
   "source": [
    "nx.nonzero()[0]"
   ]
  },
  {
   "cell_type": "markdown",
   "id": "8c9019e7-f1ae-45a3-a571-2b0b0dc5ad02",
   "metadata": {},
   "source": [
    "6. Создайте.случайный.тензор.размером.(3,1),.а.затем.горизонтально.разместите.в.ряд.четыре.его.копии."
   ]
  },
  {
   "cell_type": "code",
   "execution_count": 137,
   "id": "e89341db-939f-4d4f-b8c5-182c65fa4e7b",
   "metadata": {},
   "outputs": [],
   "source": [
    "x = torch.rand(3, 1)"
   ]
  },
  {
   "cell_type": "code",
   "execution_count": 146,
   "id": "1bb87508-23df-47f1-b459-f2944beacdc3",
   "metadata": {},
   "outputs": [
    {
     "data": {
      "text/plain": [
       "tensor([[0.3483, 0.3483, 0.3483, 0.3483],\n",
       "        [0.6201, 0.6201, 0.6201, 0.6201],\n",
       "        [0.6366, 0.6366, 0.6366, 0.6366]])"
      ]
     },
     "execution_count": 146,
     "metadata": {},
     "output_type": "execute_result"
    }
   ],
   "source": [
    "x.expand(3, 4)"
   ]
  },
  {
   "cell_type": "code",
   "execution_count": 139,
   "id": "c94bfc1c-f596-485e-a178-3492005bc84a",
   "metadata": {},
   "outputs": [
    {
     "data": {
      "text/plain": [
       "tensor([[0.3483, 0.3483, 0.3483, 0.3483],\n",
       "        [0.6201, 0.6201, 0.6201, 0.6201],\n",
       "        [0.6366, 0.6366, 0.6366, 0.6366]])"
      ]
     },
     "execution_count": 139,
     "metadata": {},
     "output_type": "execute_result"
    }
   ],
   "source": [
    "torch.cat([x, x, x, x], dim=1)"
   ]
  },
  {
   "cell_type": "markdown",
   "id": "a169a799-f9be-4a8d-9319-ac423061135d",
   "metadata": {},
   "source": [
    "7. Верните.пакетное.произведение.двух.трехмерных.матриц.(a=torch.rand(3,4,5),.b=torch.rand(3,5,4))."
   ]
  },
  {
   "cell_type": "code",
   "execution_count": 141,
   "id": "e95b9c4d-668c-4949-adf3-a11859897486",
   "metadata": {},
   "outputs": [],
   "source": [
    "a=torch.rand(3,4,5)\n",
    "b=torch.rand(3,5,4)"
   ]
  },
  {
   "cell_type": "code",
   "execution_count": 147,
   "id": "dae4046b-7a7e-41e6-abe1-939b62fc41af",
   "metadata": {},
   "outputs": [
    {
     "data": {
      "text/plain": [
       "tensor([[[1.5098, 0.8145, 1.2376, 0.9374],\n",
       "         [1.4803, 1.1709, 1.5726, 1.0644],\n",
       "         [1.2736, 1.0080, 1.7419, 1.5121],\n",
       "         [1.1323, 0.7094, 1.2143, 1.0179]],\n",
       "\n",
       "        [[1.7494, 1.8616, 1.9377, 0.4964],\n",
       "         [1.1961, 1.9112, 1.7052, 0.2892],\n",
       "         [1.0254, 0.8522, 1.1063, 0.3222],\n",
       "         [1.3654, 1.5672, 1.7054, 0.4136]],\n",
       "\n",
       "        [[1.1891, 1.7856, 1.1277, 1.0117],\n",
       "         [0.7270, 1.1499, 0.6982, 1.1460],\n",
       "         [0.7687, 1.3146, 0.8661, 1.1494],\n",
       "         [1.1524, 2.2619, 1.5295, 2.2037]]])"
      ]
     },
     "execution_count": 147,
     "metadata": {},
     "output_type": "execute_result"
    }
   ],
   "source": [
    "torch.bmm(a, b)"
   ]
  },
  {
   "cell_type": "code",
   "execution_count": null,
   "id": "2c377e45-0f3f-4a9f-aa16-38697adf262f",
   "metadata": {},
   "outputs": [],
   "source": []
  }
 ],
 "metadata": {
  "kernelspec": {
   "display_name": "Python 3 (ipykernel)",
   "language": "python",
   "name": "python3"
  },
  "language_info": {
   "codemirror_mode": {
    "name": "ipython",
    "version": 3
   },
   "file_extension": ".py",
   "mimetype": "text/x-python",
   "name": "python",
   "nbconvert_exporter": "python",
   "pygments_lexer": "ipython3",
   "version": "3.8.9"
  }
 },
 "nbformat": 4,
 "nbformat_minor": 5
}
